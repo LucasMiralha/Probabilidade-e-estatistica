{
  "nbformat": 4,
  "nbformat_minor": 0,
  "metadata": {
    "colab": {
      "provenance": []
    },
    "kernelspec": {
      "name": "python3",
      "display_name": "Python 3"
    },
    "language_info": {
      "name": "python"
    }
  },
  "cells": [
    {
      "cell_type": "code",
      "execution_count": 4,
      "metadata": {
        "id": "ouX4q7itqQd-"
      },
      "outputs": [],
      "source": [
        "import numpy as np\n",
        "import math\n",
        "import scipy.integrate as integrate\n",
        "import scipy.special as special"
      ]
    },
    {
      "cell_type": "markdown",
      "source": [
        "#### 1. Muitos fabricantes possuem programas de controle de qualidade que incluem a inspeção de defeitos no recebimento dos materiais. Suponha que um fabricante de computadores receba placas em lotes de cinco. Duas placas em cada lote são selecionadas para inspeção. Podemos representar os resultados possíveis do processo pela seleção de pares.\n",
        "a) Escreva os 10 resultados diferentes possíveis.\n",
        "\n",
        "b) Suponha que as placas 1 e 2 sejam as únicas com defeito em um lote de cinco. Duas placas serão escolhidas aleatoriamente. Defina X como o número observado de placas com defeito entre as inspecionadas. Determine a distribuição de probabilidade de X."
      ],
      "metadata": {
        "id": "c3KpMSNirSAB"
      }
    },
    {
      "cell_type": "markdown",
      "source": [
        "a)\n",
        "DDFFF, DFDFF, FDDFF, FDFDF, DFFDF, FDFFD, FFDDF, DFFFD, FFDFD, FFFDD"
      ],
      "metadata": {
        "id": "fQmWdFVMuodW"
      }
    },
    {
      "cell_type": "code",
      "source": [
        "#b)\n",
        "prob0 = (3/5)*(2/4)\n",
        "print(prob0*100, \"%\")\n",
        "prob1 = ((3/5)*(2/4))+((2/5)*(3/4))\n",
        "print(prob1*100, \"%\")\n",
        "prob2 = (2/5)*(1/4)\n",
        "print(prob2*100, \"%\")"
      ],
      "metadata": {
        "colab": {
          "base_uri": "https://localhost:8080/"
        },
        "id": "uu5LhbXItiaE",
        "outputId": "6f965595-1bc0-495a-aac9-940057829978"
      },
      "execution_count": null,
      "outputs": [
        {
          "output_type": "stream",
          "name": "stdout",
          "text": [
            "30.0 %\n",
            "60.00000000000001 %\n",
            "10.0 %\n"
          ]
        }
      ]
    },
    {
      "cell_type": "markdown",
      "source": [
        "#### 2. Um professor de faculdade nunca finaliza sua aula antes do final do horário e sempre termina dentro de dois minutos após o horário. Seja X = tempo entre o fim do horário e o fim da aula e suponha que a distribuição de probabilidade de X seja:\n",
        "![image.png](data:image/png;base64,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)\n",
        "\n",
        "a) Determine o valor de k.\n",
        "\n",
        "b) Qual é a probabilidade de a aula terminar dentro de 1 minuto do final do horário?"
      ],
      "metadata": {
        "id": "cJqJsW55rmff"
      }
    },
    {
      "cell_type": "code",
      "source": [
        "#a)\n",
        "def f(x): return pow(x, 2)\n",
        "res1, err1 = integrate.quad(f, 0, 2)\n",
        "K = 1/res1\n",
        "print(K*100, \"%\")\n",
        "#b)\n",
        "res2, err2 = integrate.quad(f, 0, 1)\n",
        "b = K*res2\n",
        "print(b*100, \"%\")"
      ],
      "metadata": {
        "colab": {
          "base_uri": "https://localhost:8080/"
        },
        "id": "y-UpkWzj2_dJ",
        "outputId": "cb185e05-a439-4479-af3a-06e3d1173065"
      },
      "execution_count": 26,
      "outputs": [
        {
          "output_type": "stream",
          "name": "stdout",
          "text": [
            "37.49999999999999 %\n",
            "12.5 %\n"
          ]
        }
      ]
    },
    {
      "cell_type": "markdown",
      "source": [
        "#### 3. O sistema de controle aéreo, chamado PASS, do ônibus espacial usa quatro computadores independentes trabalhando em paralelo. Em cada etapa crítica, os computadores \"votam\" para determinar a etapa apropriada. A probabilidade de o computador pedir para manobrar para a esquerda quando uma manobra para a direita seria apropriada é igual a 0,0001. Seja X o número de computadores que votam em uma manobra para a esquerda quando uma manobra para a direita seria apropriada. Qual é a média e a variância de X?"
      ],
      "metadata": {
        "id": "xNd6oCl1NM0C"
      }
    },
    {
      "cell_type": "code",
      "source": [
        "q = 0.9999\n",
        "p = 0.0001\n",
        "media = 4*p\n",
        "variancia = p*q*4\n",
        "print(media)                #E(x)\n",
        "print(variancia)            #V(x)\n",
        "print(math.sqrt(variancia)) #G(x)"
      ],
      "metadata": {
        "colab": {
          "base_uri": "https://localhost:8080/"
        },
        "id": "rejqF7xlzxnt",
        "outputId": "82b593ee-4bb4-40d5-ddb1-c44e1852db3a"
      },
      "execution_count": 28,
      "outputs": [
        {
          "output_type": "stream",
          "name": "stdout",
          "text": [
            "0.0004\n",
            "0.00039996000000000004\n",
            "0.019998999974998752\n"
          ]
        }
      ]
    },
    {
      "cell_type": "markdown",
      "source": [
        "#### 4. Diversas experiências com determinado tipo de ventilador, usados em motores a diesel, indicam que a distribuição exponencial sugere um bom modelo para cálculo do tempo até uma falha. Suponha que o tempo médio seja 25.000 horas. Qual é a probabilidade de um ventilador selecionado aleatoriamente durar pelo menos 20.000? No máximo 30.000 horas? Entre 20.000 e 30.000 horas?"
      ],
      "metadata": {
        "id": "cKKj_j9IQrop"
      }
    },
    {
      "cell_type": "code",
      "source": [
        "E = math.exp(1)   #e\n",
        "media = 25000     #E(x) = 1/Lambda\n",
        "L = 1/media       #Lambda = 1/E(x)\n",
        "print(pow(E, 20000*L*-1)*100, \"%\")         #e^lambda*x   P(T>t)\n",
        "print((1-pow(E, 30000*L*-1))*100, \"%\")       #1-e^lambda*x F(t)\n",
        "print(((1-pow(E, 30000*L*-1))-(1-pow(E, 20000*L*-1)))*100, \"%\") #F(t)-F(t)"
      ],
      "metadata": {
        "colab": {
          "base_uri": "https://localhost:8080/"
        },
        "id": "-r6QPa1CRCAz",
        "outputId": "ccc729e6-c1ec-4f66-9d1d-812a5cc90d2b"
      },
      "execution_count": 18,
      "outputs": [
        {
          "output_type": "stream",
          "name": "stdout",
          "text": [
            "44.932896411722155 %\n",
            "69.88057880877979 %\n",
            "14.813475220501948 %\n"
          ]
        }
      ]
    },
    {
      "cell_type": "markdown",
      "source": [
        "#### 5. Em uma grande universidade, na pesquisa por um livro-texto satisfatório, o departamento de estatística testou um livro diferente durante os últimos três trimestres. No trimestre do Outono, 500 alunos usaram o livro do professor Média; durante o Inverno, 300 alunos usaram o livro do professor Mediana e durante a Primavera, 200 alunos usaram o livro do professor Moda. Uma pesquisa no final de cada trimestre mostrou que 200 estavam satisfeitos com o livro do Média, 150 estavam satisfeitos com o livro do Mediana e 160 estavam satisfeitos com o livro do Moda. Se um aluno que estudou estatística durante um dos trimestres for selecionado aleatoriamente e admitir estar satisfeito com o livro-texto, ele terá mais probabilidade de ter usado o livro da Média, do Mediana ou do Moda? Quem é o autor igualmente menos provável?"
      ],
      "metadata": {
        "id": "WWVXOvoBQ5UV"
      }
    },
    {
      "cell_type": "code",
      "source": [
        "media = 500\n",
        "mediana = 300\n",
        "moda = 200\n",
        "Smedia = 200\n",
        "Smediana = 150\n",
        "Smoda = 160\n",
        "total = media + mediana + moda\n",
        "finalmedia = (media/total) * (Smedia/media)\n",
        "finalmediana = (mediana/total) * (Smediana/mediana)\n",
        "finalmoda = (moda/total) * (Smoda/moda)\n",
        "Stotal = finalmedia + finalmediana + finalmoda\n",
        "print(finalmedia * 100, \"%  media\")\n",
        "print(finalmediana * 100, \"%  mediana\")\n",
        "print(finalmoda * 100, \"%  moda\\n\")\n",
        "print(finalmedia/Stotal * 100, \"%  media\")\n",
        "print(finalmediana/Stotal * 100, \"%  mediana\")\n",
        "print(finalmoda/Stotal * 100, \"%  moda\")"
      ],
      "metadata": {
        "colab": {
          "base_uri": "https://localhost:8080/"
        },
        "id": "o9LidrUSRASC",
        "outputId": "e15b92a2-001d-49be-8102-910366d3620b"
      },
      "execution_count": 23,
      "outputs": [
        {
          "output_type": "stream",
          "name": "stdout",
          "text": [
            "20.0 %  media\n",
            "15.0 %  mediana\n",
            "16.000000000000004 %  moda\n",
            "\n",
            "39.21568627450981 %  media\n",
            "29.411764705882355 %  mediana\n",
            "31.37254901960785 %  moda\n"
          ]
        }
      ]
    }
  ]
}